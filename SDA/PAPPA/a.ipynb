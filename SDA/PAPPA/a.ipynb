{
 "metadata": {
  "language_info": {
   "codemirror_mode": {
    "name": "ipython",
    "version": 3
   },
   "file_extension": ".py",
   "mimetype": "text/x-python",
   "name": "python",
   "nbconvert_exporter": "python",
   "pygments_lexer": "ipython3",
   "version": "3.7.4-final"
  },
  "orig_nbformat": 2,
  "kernelspec": {
   "name": "python3",
   "display_name": "Python 3",
   "language": "python"
  }
 },
 "nbformat": 4,
 "nbformat_minor": 2,
 "cells": [
  {
   "cell_type": "code",
   "execution_count": null,
   "metadata": {},
   "outputs": [],
   "source": [
    "!pip install numpy pandas"
   ]
  },
  {
   "cell_type": "code",
   "execution_count": 1,
   "metadata": {},
   "outputs": [],
   "source": [
    "import pandas as pd\n",
    "import numpy as np\n",
    "import random\n",
    "import math\n",
    "from copy import deepcopy\n",
    "import matplotlib.pyplot as plt\n",
    "from matplotlib import lines as mlines\n",
    "from itertools import combinations, takewhile, product\n",
    "from scipy.stats import norm, chi2, t, f\n",
    "from mpl_toolkits.mplot3d import Axes3D \n",
    "from typing import List, Tuple, Dict\n",
    "sqrt = math.sqrt\n",
    "pd.options.display.float_format = '{:,.3f}'.format"
   ]
  },
  {
   "source": [
    "### Linear Regression Question Type - A\n"
   ],
   "cell_type": "markdown",
   "metadata": {}
  },
  {
   "cell_type": "code",
   "execution_count": null,
   "metadata": {},
   "outputs": [],
   "source": []
  },
  {
   "cell_type": "code",
   "execution_count": 3,
   "metadata": {},
   "outputs": [],
   "source": [
    "# Data here\n",
    "x = pd.read_csv('dummy.csv', dtype=float)\n",
    "y = pd.read_csv('dummy2.csv', dtype=float) # Response variables\n",
    "n = len(x)\n",
    "r = x.columns.size"
   ]
  },
  {
   "cell_type": "code",
   "execution_count": 4,
   "metadata": {},
   "outputs": [
    {
     "output_type": "stream",
     "name": "stdout",
     "text": [
      "No of samples = 43 \nNo of Parameters 5\n"
     ]
    }
   ],
   "source": [
    "print ('No of samples =', len(x), '\\nNo of Parameters', x.columns.size)"
   ]
  },
  {
   "cell_type": "code",
   "execution_count": 5,
   "metadata": {},
   "outputs": [
    {
     "output_type": "stream",
     "name": "stdout",
     "text": [
      "Mean Vector is:\n1   1.070\n2   1.977\n3   3.047\n4   3.977\n5   5.372\ndtype: float64\n"
     ]
    }
   ],
   "source": [
    "print('Mean Vector is:')\n",
    "print(x.mean())"
   ]
  },
  {
   "cell_type": "code",
   "execution_count": 6,
   "metadata": {},
   "outputs": [
    {
     "output_type": "stream",
     "name": "stdout",
     "text": [
      "Covariance Matrix is:\n       1      2      3      4      5\n1  0.209 -0.070  0.140 -0.070  1.116\n2 -0.070  0.023 -0.047  0.023 -0.372\n3  0.140 -0.047  0.093 -0.047  0.744\n4 -0.070  0.023 -0.047  0.023 -0.372\n5  1.116 -0.372  0.744 -0.372  5.953\n"
     ]
    }
   ],
   "source": [
    "print('Covariance Matrix is:')\n",
    "print(x.cov())"
   ]
  },
  {
   "cell_type": "code",
   "execution_count": 7,
   "metadata": {},
   "outputs": [
    {
     "output_type": "stream",
     "name": "stdout",
     "text": [
      "Correlation Matrix is:\n       1      2      3      4      5\n1  1.000 -1.000  1.000 -1.000  1.000\n2 -1.000  1.000 -1.000  1.000 -1.000\n3  1.000 -1.000  1.000 -1.000  1.000\n4 -1.000  1.000 -1.000  1.000 -1.000\n5  1.000 -1.000  1.000 -1.000  1.000\n"
     ]
    }
   ],
   "source": [
    "print('Correlation Matrix is:')\n",
    "print(x.corr())"
   ]
  },
  {
   "cell_type": "code",
   "execution_count": 10,
   "metadata": {},
   "outputs": [
    {
     "output_type": "stream",
     "name": "stdout",
     "text": [
      "Z Sample data is\n    B0     1     2     3     4      5\n0    1 1.000 2.000 3.000 4.000  5.000\n1    1 1.000 2.000 3.000 4.000  5.000\n2    1 1.000 2.000 3.000 4.000  5.000\n3    1 1.000 2.000 3.000 4.000  5.000\n4    1 1.000 2.000 3.000 4.000  5.000\n5    1 1.000 2.000 3.000 4.000  5.000\n6    1 1.000 2.000 3.000 4.000  5.000\n7    1 1.000 2.000 3.000 4.000  5.000\n8    1 1.000 2.000 3.000 4.000  5.000\n9    1 1.000 2.000 3.000 4.000  5.000\n10   1 1.000 2.000 3.000 4.000  5.000\n11   1 1.000 2.000 3.000 4.000  5.000\n12   1 1.000 2.000 3.000 4.000  5.000\n13   1 1.000 2.000 3.000 4.000  5.000\n14   1 1.000 2.000 3.000 4.000  5.000\n15   1 1.000 2.000 3.000 4.000  5.000\n16   1 1.000 2.000 3.000 4.000  5.000\n17   1 1.000 2.000 3.000 4.000  5.000\n18   1 1.000 2.000 3.000 4.000  5.000\n19   1 1.000 2.000 3.000 4.000  5.000\n20   1 1.000 2.000 3.000 4.000  5.000\n21   1 1.000 2.000 3.000 4.000  5.000\n22   1 1.000 2.000 3.000 4.000  5.000\n23   1 1.000 2.000 3.000 4.000  5.000\n24   1 1.000 2.000 3.000 4.000  5.000\n25   1 1.000 2.000 3.000 4.000  5.000\n26   1 1.000 2.000 3.000 4.000  5.000\n27   1 1.000 2.000 3.000 4.000  5.000\n28   1 1.000 2.000 3.000 4.000  5.000\n29   1 1.000 2.000 3.000 4.000  5.000\n30   1 1.000 2.000 3.000 4.000  5.000\n31   1 1.000 2.000 3.000 4.000  5.000\n32   1 1.000 2.000 3.000 4.000  5.000\n33   1 4.000 1.000 5.000 3.000 21.000\n34   1 1.000 2.000 3.000 4.000  5.000\n35   1 1.000 2.000 3.000 4.000  5.000\n36   1 1.000 2.000 3.000 4.000  5.000\n37   1 1.000 2.000 3.000 4.000  5.000\n38   1 1.000 2.000 3.000 4.000  5.000\n39   1 1.000 2.000 3.000 4.000  5.000\n40   1 1.000 2.000 3.000 4.000  5.000\n41   1 1.000 2.000 3.000 4.000  5.000\n42   1 1.000 2.000 3.000 4.000  5.000\n"
     ]
    }
   ],
   "source": [
    "print ('Z Sample data is')\n",
    "Z = deepcopy(x)\n",
    "Z.insert(0, 'B0', 1)\n",
    "print (Z)"
   ]
  },
  {
   "source": [
    "$\\hat{\\beta}$ vector is"
   ],
   "cell_type": "markdown",
   "metadata": {}
  },
  {
   "cell_type": "code",
   "execution_count": 11,
   "metadata": {},
   "outputs": [
    {
     "output_type": "stream",
     "name": "stdout",
     "text": [
      "[[-0.00227551]\n [ 0.04277784]\n [-0.0195688 ]\n [ 0.02320904]\n [-0.02411982]\n [ 0.22890701]]\n"
     ]
    }
   ],
   "source": [
    "beta = np.linalg.pinv(Z.transpose().dot(Z)).dot(Z.transpose()).dot(y)\n",
    "print(beta)"
   ]
  },
  {
   "source": [
    "$\\hat{y}$ vector is"
   ],
   "cell_type": "markdown",
   "metadata": {}
  },
  {
   "cell_type": "code",
   "execution_count": 12,
   "metadata": {},
   "outputs": [
    {
     "output_type": "stream",
     "name": "stdout",
     "text": [
      "       0\n0  1.119\n1  1.119\n2  1.119\n3  1.119\n4  1.119\n5  1.119\n6  1.119\n7  1.119\n8  1.119\n9  1.119\n10 1.119\n11 1.119\n12 1.119\n13 1.119\n14 1.119\n15 1.119\n16 1.119\n17 1.119\n18 1.119\n19 1.119\n20 1.119\n21 1.119\n22 1.119\n23 1.119\n24 1.119\n25 1.119\n26 1.119\n27 1.119\n28 1.119\n29 1.119\n30 1.119\n31 1.119\n32 1.119\n33 5.000\n34 1.119\n35 1.119\n36 1.119\n37 1.119\n38 1.119\n39 1.119\n40 1.119\n41 1.119\n42 1.119\n"
     ]
    }
   ],
   "source": [
    "y_exp = Z.dot(beta)\n",
    "print(y_exp)"
   ]
  },
  {
   "cell_type": "code",
   "execution_count": 13,
   "metadata": {},
   "outputs": [
    {
     "output_type": "stream",
     "name": "stdout",
     "text": [
      "Error Vector\n"
     ]
    },
    {
     "output_type": "execute_result",
     "data": {
      "text/plain": [
       "        1\n",
       "0  -0.119\n",
       "1  -0.119\n",
       "2  -0.119\n",
       "3  -0.119\n",
       "4  -0.119\n",
       "5  -0.119\n",
       "6  -0.119\n",
       "7  -0.119\n",
       "8  -0.119\n",
       "9  -0.119\n",
       "10 -0.119\n",
       "11 -0.119\n",
       "12 -0.119\n",
       "13 -0.119\n",
       "14 -0.119\n",
       "15 -0.119\n",
       "16 -0.119\n",
       "17 -0.119\n",
       "18 -0.119\n",
       "19 -0.119\n",
       "20 -0.119\n",
       "21 -0.119\n",
       "22 -0.119\n",
       "23 -0.119\n",
       "24 -0.119\n",
       "25 -0.119\n",
       "26 -0.119\n",
       "27 -0.119\n",
       "28 -0.119\n",
       "29 -0.119\n",
       "30 -0.119\n",
       "31 -0.119\n",
       "32 -0.119\n",
       "33 -0.000\n",
       "34  4.881\n",
       "35 -0.119\n",
       "36 -0.119\n",
       "37 -0.119\n",
       "38 -0.119\n",
       "39 -0.119\n",
       "40 -0.119\n",
       "41 -0.119\n",
       "42 -0.119"
      ],
      "text/html": "<div>\n<style scoped>\n    .dataframe tbody tr th:only-of-type {\n        vertical-align: middle;\n    }\n\n    .dataframe tbody tr th {\n        vertical-align: top;\n    }\n\n    .dataframe thead th {\n        text-align: right;\n    }\n</style>\n<table border=\"1\" class=\"dataframe\">\n  <thead>\n    <tr style=\"text-align: right;\">\n      <th></th>\n      <th>1</th>\n    </tr>\n  </thead>\n  <tbody>\n    <tr>\n      <td>0</td>\n      <td>-0.119</td>\n    </tr>\n    <tr>\n      <td>1</td>\n      <td>-0.119</td>\n    </tr>\n    <tr>\n      <td>2</td>\n      <td>-0.119</td>\n    </tr>\n    <tr>\n      <td>3</td>\n      <td>-0.119</td>\n    </tr>\n    <tr>\n      <td>4</td>\n      <td>-0.119</td>\n    </tr>\n    <tr>\n      <td>5</td>\n      <td>-0.119</td>\n    </tr>\n    <tr>\n      <td>6</td>\n      <td>-0.119</td>\n    </tr>\n    <tr>\n      <td>7</td>\n      <td>-0.119</td>\n    </tr>\n    <tr>\n      <td>8</td>\n      <td>-0.119</td>\n    </tr>\n    <tr>\n      <td>9</td>\n      <td>-0.119</td>\n    </tr>\n    <tr>\n      <td>10</td>\n      <td>-0.119</td>\n    </tr>\n    <tr>\n      <td>11</td>\n      <td>-0.119</td>\n    </tr>\n    <tr>\n      <td>12</td>\n      <td>-0.119</td>\n    </tr>\n    <tr>\n      <td>13</td>\n      <td>-0.119</td>\n    </tr>\n    <tr>\n      <td>14</td>\n      <td>-0.119</td>\n    </tr>\n    <tr>\n      <td>15</td>\n      <td>-0.119</td>\n    </tr>\n    <tr>\n      <td>16</td>\n      <td>-0.119</td>\n    </tr>\n    <tr>\n      <td>17</td>\n      <td>-0.119</td>\n    </tr>\n    <tr>\n      <td>18</td>\n      <td>-0.119</td>\n    </tr>\n    <tr>\n      <td>19</td>\n      <td>-0.119</td>\n    </tr>\n    <tr>\n      <td>20</td>\n      <td>-0.119</td>\n    </tr>\n    <tr>\n      <td>21</td>\n      <td>-0.119</td>\n    </tr>\n    <tr>\n      <td>22</td>\n      <td>-0.119</td>\n    </tr>\n    <tr>\n      <td>23</td>\n      <td>-0.119</td>\n    </tr>\n    <tr>\n      <td>24</td>\n      <td>-0.119</td>\n    </tr>\n    <tr>\n      <td>25</td>\n      <td>-0.119</td>\n    </tr>\n    <tr>\n      <td>26</td>\n      <td>-0.119</td>\n    </tr>\n    <tr>\n      <td>27</td>\n      <td>-0.119</td>\n    </tr>\n    <tr>\n      <td>28</td>\n      <td>-0.119</td>\n    </tr>\n    <tr>\n      <td>29</td>\n      <td>-0.119</td>\n    </tr>\n    <tr>\n      <td>30</td>\n      <td>-0.119</td>\n    </tr>\n    <tr>\n      <td>31</td>\n      <td>-0.119</td>\n    </tr>\n    <tr>\n      <td>32</td>\n      <td>-0.119</td>\n    </tr>\n    <tr>\n      <td>33</td>\n      <td>-0.000</td>\n    </tr>\n    <tr>\n      <td>34</td>\n      <td>4.881</td>\n    </tr>\n    <tr>\n      <td>35</td>\n      <td>-0.119</td>\n    </tr>\n    <tr>\n      <td>36</td>\n      <td>-0.119</td>\n    </tr>\n    <tr>\n      <td>37</td>\n      <td>-0.119</td>\n    </tr>\n    <tr>\n      <td>38</td>\n      <td>-0.119</td>\n    </tr>\n    <tr>\n      <td>39</td>\n      <td>-0.119</td>\n    </tr>\n    <tr>\n      <td>40</td>\n      <td>-0.119</td>\n    </tr>\n    <tr>\n      <td>41</td>\n      <td>-0.119</td>\n    </tr>\n    <tr>\n      <td>42</td>\n      <td>-0.119</td>\n    </tr>\n  </tbody>\n</table>\n</div>"
     },
     "metadata": {},
     "execution_count": 13
    }
   ],
   "source": [
    "print(\"Error Vector\")\n",
    "y-y_exp.to_numpy()"
   ]
  },
  {
   "cell_type": "code",
   "execution_count": 14,
   "metadata": {},
   "outputs": [
    {
     "output_type": "execute_result",
     "data": {
      "text/plain": [
       "52.0"
      ]
     },
     "metadata": {},
     "execution_count": 14
    }
   ],
   "source": [
    "y.sum()[0]"
   ]
  },
  {
   "cell_type": "code",
   "execution_count": 25,
   "metadata": {},
   "outputs": [
    {
     "output_type": "stream",
     "name": "stdout",
     "text": [
      "SSE: 24.4047619047619\nSSR: 14.71151716500556\nSST: 39.116279069767444\nRsquared 0.3760970499971695\nRsq_adjusted 0.5730790243275374\n"
     ]
    }
   ],
   "source": [
    "epsilon = y - y_exp.to_numpy()\n",
    "sse = epsilon.transpose().dot(epsilon)\n",
    "print('SSE:', sse.values[0][0])\n",
    "ssr = beta.transpose().dot(Z.transpose()).dot(y) - (y.sum()[0]**2)/len(y)\n",
    "print('SSR:', ssr[0][0])\n",
    "sst = y.transpose().dot(y) - (y.sum()[0]**2)/len(y)\n",
    "print('SST:', sst.values[0][0])\n",
    "rsquared = ssr/sst\n",
    "rsq_adj = 1 - (ssr/(n-r-1))/(sst/(n-1))\n",
    "print('Rsquared', rsquared.values[0][0])\n",
    "print('Rsq_adjusted', rsq_adj.values[0][0])"
   ]
  },
  {
   "cell_type": "code",
   "execution_count": 26,
   "metadata": {},
   "outputs": [
    {
     "output_type": "stream",
     "name": "stdout",
     "text": [
      "Sigma square for beta 0.6595881595881595\n"
     ]
    }
   ],
   "source": [
    "sigma_2 = epsilon.transpose().dot(epsilon) / (n -  r - 1)\n",
    "print('Sigma square for beta', sigma_2.values[0][0])"
   ]
  },
  {
   "cell_type": "code",
   "execution_count": 27,
   "metadata": {},
   "outputs": [
    {
     "output_type": "stream",
     "name": "stdout",
     "text": [
      "Covariance Matrix for beta^\n        B0       1       2       3       4       5\nB0  28.362  30.341  56.065  86.406 112.790 152.365\n1   30.341  38.256  58.044  96.300 118.726 193.919\n2   56.065  58.044 111.470 169.514 223.600 290.878\n3   86.406  96.300 169.514 265.814 342.326 484.797\n4  112.790 118.726 223.600 342.326 449.180 595.608\n5  152.365 193.919 290.878 484.797 595.608 983.446\n"
     ]
    }
   ],
   "source": [
    "print('Covariance Matrix for beta^')\n",
    "b_cov = sigma_2.values[0][0] * (Z.transpose().dot(Z))\n",
    "print(b_cov)"
   ]
  },
  {
   "cell_type": "code",
   "execution_count": 28,
   "metadata": {},
   "outputs": [
    {
     "output_type": "stream",
     "name": "stdout",
     "text": [
      "Epsilon Covariance\n"
     ]
    }
   ],
   "source": [
    "print('Epsilon Covariance')\n"
   ]
  },
  {
   "cell_type": "code",
   "execution_count": null,
   "metadata": {},
   "outputs": [],
   "source": []
  },
  {
   "cell_type": "code",
   "execution_count": 3,
   "metadata": {},
   "outputs": [
    {
     "output_type": "execute_result",
     "data": {
      "text/plain": [
       "array([[2. , 0.8],\n",
       "       [0.8, 0.6]])"
      ]
     },
     "metadata": {},
     "execution_count": 3
    }
   ],
   "source": [
    "n=50\n",
    "s=np.array([[2.0, 0.8], [0.8, 0.6]])\n",
    "s"
   ]
  },
  {
   "cell_type": "code",
   "execution_count": 4,
   "metadata": {},
   "outputs": [
    {
     "output_type": "execute_result",
     "data": {
      "text/plain": [
       "(array([2.36301458, 0.23698542]), array([[ 0.91063291, -0.41321628],\n",
       "        [ 0.41321628,  0.91063291]]))"
      ]
     },
     "metadata": {},
     "execution_count": 4
    }
   ],
   "source": [
    "np.linalg.eig(s)"
   ]
  },
  {
   "cell_type": "code",
   "execution_count": null,
   "metadata": {},
   "outputs": [],
   "source": []
  }
 ]
}